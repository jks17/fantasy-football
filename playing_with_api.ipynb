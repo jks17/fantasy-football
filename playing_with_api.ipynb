{
 "cells": [
  {
   "cell_type": "code",
   "execution_count": 197,
   "metadata": {},
   "outputs": [],
   "source": [
    "import urllib.request\n",
    "import json\n",
    "from pulp import *\n",
    "import numpy as np"
   ]
  },
  {
   "cell_type": "code",
   "execution_count": null,
   "metadata": {},
   "outputs": [],
   "source": [
    "# All player/team data\n",
    "url1 = \"https://fantasy.premierleague.com/api/bootstrap-static/\"\n",
    "\n",
    "# specific player data\n",
    "# https://fantasy.premierleague.com/api/element-summary/[player_id]/"
   ]
  },
  {
   "cell_type": "code",
   "execution_count": 44,
   "metadata": {},
   "outputs": [],
   "source": [
    "# download current season player data\n",
    "\n",
    "with urllib.request.urlopen(\"https://fantasy.premierleague.com/api/bootstrap-static/\") as url:\n",
    "    data = json.loads(url.read().decode())"
   ]
  },
  {
   "cell_type": "markdown",
   "metadata": {},
   "source": [
    "# Start of season picking"
   ]
  },
  {
   "cell_type": "markdown",
   "metadata": {},
   "source": [
    "##  find optimal full squad for a previous season with current players and current price  "
   ]
  },
  {
   "cell_type": "code",
   "execution_count": null,
   "metadata": {},
   "outputs": [],
   "source": [
    "# just assume that you get points from all 15 players in team throughout season\n",
    "# constraints include price as well as 3 players from same team\n",
    "\n",
    "# this finds optimal team looking at the statistic you want to maximise - eg points, points per game, creativity etc"
   ]
  },
  {
   "cell_type": "code",
   "execution_count": 143,
   "metadata": {},
   "outputs": [],
   "source": [
    "# pick season to look at\n",
    "season = '2018/19'\n",
    "\n",
    "''' pick statistic to optimise. Can be one of the following\n",
    "{'assists',\n",
    "  'bonus',\n",
    "  'bps',\n",
    "  'creativity',\n",
    "  'goals_scored',\n",
    "  'ict_index',\n",
    "  'influence',\n",
    "  'minutes',\n",
    "  'threat',\n",
    "  'total_points'\n",
    "}\n",
    "'''\n",
    "\n",
    "stat = 'total_points'\n",
    "\n",
    "# get dictionary of player name and [corresponding id, start_of_season_cost, positon, club]\n",
    "pos = {1: 'goalkeeper', 2: 'defender', 3: 'midfielder', 4: 'forward'}\n",
    "\n",
    "player_id_dict = {x['web_name']: [x['id'],\n",
    "                                  x['now_cost'] - x['cost_change_start'],\n",
    "                                  pos[x['element_type']],\n",
    "                                  x['team']]\n",
    "                  for x in data['elements']}"
   ]
  },
  {
   "cell_type": "code",
   "execution_count": 144,
   "metadata": {},
   "outputs": [],
   "source": [
    "# for each player create dict with name: [statistic, start_of_season_cost, postion, club]\n",
    "# if not played then last_seasons_points is 0\n",
    "\n",
    "last_season_dict = {}\n",
    "\n",
    "for key in player_id_dict.keys():\n",
    "    with urllib.request.urlopen(\"https://fantasy.premierleague.com/api/element-summary/{}/\"\n",
    "                                .format(player_id_dict[key][0])) as url:\n",
    "        data_player = json.loads(url.read().decode())\n",
    "\n",
    "    for x in data_player['history_past']:\n",
    "        if x['season_name'] == season:\n",
    "            last_season_dict[key] = [float(\n",
    "                x[stat]), player_id_dict[key][1], player_id_dict[key][2], player_id_dict[key][3]]"
   ]
  },
  {
   "cell_type": "code",
   "execution_count": 172,
   "metadata": {},
   "outputs": [],
   "source": [
    "player = list(last_season_dict.keys())\n",
    "stat = {key: last_season_dict[key][0] for key in last_season_dict.keys()}\n",
    "cost = {key: last_season_dict[key][1] for key in last_season_dict.keys()}\n",
    "gk = {key: 1 if last_season_dict[key][2] ==\n",
    "      'goalkeeper' else 0 for key in last_season_dict.keys()}\n",
    "defe = {key: 1 if last_season_dict[key][2] ==\n",
    "        'defender' else 0 for key in last_season_dict.keys()}\n",
    "mid = {key: 1 if last_season_dict[key][2] ==\n",
    "       'midfielder' else 0 for key in last_season_dict.keys()}\n",
    "stri = {key: 1 if last_season_dict[key][2] ==\n",
    "        'forward' else 0 for key in last_season_dict.keys()}\n",
    "\n",
    "prob = LpProblem(\"Fantasy Football\", LpMaximize)\n",
    "player_vars = LpVariable.dicts(\"Player\", player, 0, 1, LpBinary)\n",
    "\n",
    "# objective function\n",
    "prob += lpSum([stat[i]*player_vars[i] for i in player]), \"Total Statistic\"\n",
    "\n",
    "# constraint\n",
    "prob += lpSum([player_vars[i] for i in player]) == 15, \"Total 15 Players\"\n",
    "prob += lpSum([cost[i] * player_vars[i]\n",
    "               for i in player]) <= 1000.0, \"Total Cost\"\n",
    "prob += lpSum([gk[i] * player_vars[i] for i in player]) == 2, \"Only 1 GK\"\n",
    "prob += lpSum([defe[i] * player_vars[i] for i in player]) == 5, \"5 DEF\"\n",
    "prob += lpSum([mid[i] * player_vars[i] for i in player]) == 5, \"5 MID\"\n",
    "prob += lpSum([stri[i] * player_vars[i] for i in player]) == 3, \"3 STR\"\n",
    "\n",
    "# add constraint of max 3 in a team\n",
    "for i in range(20):  # 20 teams in the league\n",
    "    club = {key: 1 if last_season_dict[key][3] ==\n",
    "            i else 0 for key in last_season_dict.keys()}\n",
    "    prob += lpSum([club[i] * player_vars[i] for i in player]\n",
    "                  ) <= 3, \"Less than 3 in team {}\".format(i)\n",
    "\n",
    "# solve\n",
    "status = prob.solve()"
   ]
  },
  {
   "cell_type": "code",
   "execution_count": 176,
   "metadata": {},
   "outputs": [
    {
     "name": "stdout",
     "output_type": "stream",
     "text": [
      "total points are 2545.0 \n",
      "\n",
      "players in team are: \n",
      "Player_Alisson = 1.0\n",
      "Player_Azpilicueta = 1.0\n",
      "Player_Callum_Wilson = 1.0\n",
      "Player_David_Luiz = 1.0\n",
      "Player_Felipe_Anderson = 1.0\n",
      "Player_Fraser = 1.0\n",
      "Player_Jiménez = 1.0\n",
      "Player_Jota = 1.0\n",
      "Player_Kanté = 1.0\n",
      "Player_Laporte = 1.0\n",
      "Player_Milivojevic = 1.0\n",
      "Player_Pickford = 1.0\n",
      "Player_Robertson = 1.0\n",
      "Player_Sigurdsson = 1.0\n",
      "Player_van_Dijk = 1.0\n"
     ]
    }
   ],
   "source": [
    "print('total points are {} \\n'.format(value(prob.objective)))\n",
    "print('players in team are: ')\n",
    "\n",
    "for v in prob.variables():\n",
    "    if v.varValue > 0:\n",
    "        print(v.name, \"=\", v.varValue)"
   ]
  },
  {
   "cell_type": "markdown",
   "metadata": {},
   "source": [
    "## find optimal starting team for last season with current players and current price"
   ]
  },
  {
   "cell_type": "code",
   "execution_count": 179,
   "metadata": {},
   "outputs": [],
   "source": [
    "# assume no transfers throughout entire season so want to maximise points in starting line up.\n",
    "# constraints include price as well as 3 players from same team\n",
    "\n",
    "# so you buy 15 players\n",
    "# 2 goalkeepers, 5 defenders, 5 midfielders and 3 forwards\n",
    "# you have 4 on bench (1 gk, 3 remaining players). Want to maximise points in 11 playing"
   ]
  },
  {
   "cell_type": "code",
   "execution_count": 178,
   "metadata": {},
   "outputs": [],
   "source": [
    "# possible formations are 3-4-3, 3-5-2, 4-3-3, 4-4-2, 4-5-1, 5-2-3, 5-3-2 and 5-4-1\n",
    "# for each formation I make the cheapest bench possible. I then optimise stat at price (1000 - price_of_bench)\n",
    "# I then pick the formation with starting team that gets the most points"
   ]
  },
  {
   "cell_type": "code",
   "execution_count": 185,
   "metadata": {},
   "outputs": [],
   "source": [
    "# find minimum gk, def, mid and stri values\n",
    "position_stat_dict = {}\n",
    "\n",
    "for i in range(4):\n",
    "    prices_pos = [last_season_dict[key][1] for key in last_season_dict.keys()\n",
    "                  if list(pos.values()).index(last_season_dict[key][2]) == i]\n",
    "\n",
    "    position_stat_dict[i] = min(prices_pos)"
   ]
  },
  {
   "cell_type": "code",
   "execution_count": 204,
   "metadata": {},
   "outputs": [
    {
     "name": "stdout",
     "output_type": "stream",
     "text": [
      "best formation is [4, 5, 1] \n",
      "\n",
      "total points are 2079.0 \n",
      "\n",
      "players in team are: ['Player_David_Luiz', 'Player_Ederson', 'Player_Fraser', 'Player_Jiménez', 'Player_Laporte', 'Player_Milivojevic', 'Player_Pogba', 'Player_Robertson', 'Player_Salah', 'Player_Sigurdsson', 'Player_van_Dijk']\n"
     ]
    }
   ],
   "source": [
    "formations = {0: [3, 4, 3], 1: [3, 5, 2], 2: [4, 3, 3], 3: [4, 4, 2],\n",
    "              4: [4, 5, 1], 5: [5, 2, 3], 6: [5, 3, 2], 7: [5, 4, 1]}\n",
    "\n",
    "\n",
    "team_stat_dict = {}\n",
    "\n",
    "values = []\n",
    "\n",
    "\n",
    "for key in formations.keys():\n",
    "    bench_price = position_stat_dict[0] + (5 - formations[key][0])*position_stat_dict[1] + (\n",
    "        5 - formations[key][1])*position_stat_dict[2] + (3 - formations[key][2])*position_stat_dict[3]\n",
    "\n",
    "    prob = LpProblem(\"Fantasy Football\", LpMaximize)\n",
    "    player_vars = LpVariable.dicts(\"Player\", player, 0, 1, LpBinary)\n",
    "\n",
    "    # objective function\n",
    "    prob += lpSum([stat[i]*player_vars[i] for i in player]), \"Total Statistic\"\n",
    "\n",
    "    # constraint\n",
    "    prob += lpSum([player_vars[i] for i in player]) == 11, \"Total 11 Players\"\n",
    "    prob += lpSum([cost[i] * player_vars[i] for i in player]\n",
    "                  ) <= (1000.0 - bench_price), \"Total Cost\"\n",
    "    prob += lpSum([gk[i] * player_vars[i] for i in player]) == 1, \"Only 1 GK\"\n",
    "    prob += lpSum([defe[i] * player_vars[i]\n",
    "                   for i in player]) == formations[key][0], \"DEF\"\n",
    "    prob += lpSum([mid[i] * player_vars[i]\n",
    "                   for i in player]) == formations[key][1], \"MID\"\n",
    "    prob += lpSum([stri[i] * player_vars[i]\n",
    "                   for i in player]) == formations[key][2], \"STR\"\n",
    "\n",
    "    # add constraint of max 3 in a team\n",
    "    for i in range(20):  # 20 teams in the league\n",
    "        club = {key: 1 if last_season_dict[key][3] ==\n",
    "                i else 0 for key in last_season_dict.keys()}\n",
    "        prob += lpSum([club[i] * player_vars[i] for i in player]\n",
    "                      ) <= 3, \"Less than 3 in team {}\".format(i)\n",
    "\n",
    "    # solve\n",
    "    status = prob.solve()\n",
    "\n",
    "    players = [v.name for v in prob.variables() if v.varValue > 0]\n",
    "    values.append(value(prob.objective))\n",
    "    team_stat_dict[key] = [value(prob.objective), players]\n",
    "\n",
    "pos_of_max = np.argmax(values)\n",
    "print('best formation is {} \\n'.format(formations[pos_of_max]))\n",
    "print('total points are {} \\n'.format(team_stat_dict[pos_of_max][0]))\n",
    "print('players in team are: {}'.format(team_stat_dict[pos_of_max][1]))"
   ]
  },
  {
   "cell_type": "markdown",
   "metadata": {},
   "source": [
    "## optimal player recommendation from last season"
   ]
  },
  {
   "cell_type": "code",
   "execution_count": null,
   "metadata": {},
   "outputs": [],
   "source": [
    "# you specify positions in team remaining eg [goalkeeper, defender, defender], price left and statistic you want to maximise and\n",
    "# this will recommend the players that last season would maximise this"
   ]
  },
  {
   "cell_type": "code",
   "execution_count": null,
   "metadata": {},
   "outputs": [],
   "source": []
  },
  {
   "cell_type": "markdown",
   "metadata": {},
   "source": [
    "# During season transfers"
   ]
  },
  {
   "cell_type": "markdown",
   "metadata": {},
   "source": [
    "## in-form best 11 with unlimited price "
   ]
  },
  {
   "cell_type": "code",
   "execution_count": null,
   "metadata": {},
   "outputs": [],
   "source": [
    "# you specify num of previous gameweeks to look at and this shows best staring team over those gameweeks"
   ]
  },
  {
   "cell_type": "markdown",
   "metadata": {},
   "source": [
    "## in-form best 11 with constrained price"
   ]
  },
  {
   "cell_type": "code",
   "execution_count": null,
   "metadata": {},
   "outputs": [],
   "source": [
    "# you specify num of previous gameweeks to look at as well as max price of 11 players"
   ]
  },
  {
   "cell_type": "markdown",
   "metadata": {},
   "source": [
    "# Data Visualisation suite"
   ]
  },
  {
   "cell_type": "code",
   "execution_count": null,
   "metadata": {},
   "outputs": [],
   "source": []
  },
  {
   "cell_type": "code",
   "execution_count": null,
   "metadata": {},
   "outputs": [],
   "source": []
  }
 ],
 "metadata": {
  "kernelspec": {
   "display_name": "Python 3",
   "language": "python",
   "name": "python3"
  },
  "language_info": {
   "codemirror_mode": {
    "name": "ipython",
    "version": 3
   },
   "file_extension": ".py",
   "mimetype": "text/x-python",
   "name": "python",
   "nbconvert_exporter": "python",
   "pygments_lexer": "ipython3",
   "version": "3.6.4"
  },
  "toc": {
   "base_numbering": 1,
   "nav_menu": {},
   "number_sections": true,
   "sideBar": true,
   "skip_h1_title": false,
   "title_cell": "Table of Contents",
   "title_sidebar": "Contents",
   "toc_cell": false,
   "toc_position": {},
   "toc_section_display": true,
   "toc_window_display": false
  }
 },
 "nbformat": 4,
 "nbformat_minor": 2
}
